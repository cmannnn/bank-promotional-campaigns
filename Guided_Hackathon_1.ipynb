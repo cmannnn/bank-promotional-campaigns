{
  "nbformat": 4,
  "nbformat_minor": 0,
  "metadata": {
    "colab": {
      "name": "Guided Hackathon 1.ipynb",
      "provenance": [],
      "collapsed_sections": [],
      "authorship_tag": "ABX9TyNbp9KcyS0ONqP+1VqtduXW",
      "include_colab_link": true
    },
    "kernelspec": {
      "name": "python3",
      "display_name": "Python 3"
    }
  },
  "cells": [
    {
      "cell_type": "markdown",
      "metadata": {
        "id": "view-in-github",
        "colab_type": "text"
      },
      "source": [
        "<a href=\"https://colab.research.google.com/github/cmannnn/bank-promotional-campaigns/blob/main/Guided_Hackathon_1.ipynb\" target=\"_parent\"><img src=\"https://colab.research.google.com/assets/colab-badge.svg\" alt=\"Open In Colab\"/></a>"
      ]
    },
    {
      "cell_type": "markdown",
      "metadata": {
        "id": "FXOYtRvs0dWu"
      },
      "source": [
        "Marketing campaigns are characterized by focusing on the customer needs and their overall satisfaction. Nevertheless, there are different variables that determine whether a marketing campaign will be successful or not. Some important aspects of a marketing campaign are as follows: \n",
        "\n",
        "Segment of the Population: To which segment of the population is the marketing campaign going to address and why? This aspect of the marketing campaign is extremely important since it will tell to which part of the population should most likely receive the message of the marketing campaign. \n",
        "\n",
        "Distribution channel to reach the customer's place: Implementing the most effective strategy in order to get the most out of this marketing campaign. What segment of the population should we address? Which instrument should we use to get our message out? (Ex: Telephones, Radio, TV, Social Media Etc.) \n",
        "\n",
        "Promotional Strategy: This is the way the strategy is going to be implemented and how are potential clients going to be address. This should be the last part of the marketing campaign analysis since there has to be an in-depth analysis of previous campaigns (If possible) in order to learn from previous mistakes and to determine how to make the marketing campaign much more effective.\n",
        "\n",
        "You are leading the marketing analytics team for a banking institution. There has been a revenue decline for the bank and they would like to know what actions to take. After investigation, it was found that the root cause is that their clients are not depositing as frequently as before. Term deposits allow banks to hold onto a deposit for a specific amount of time, so banks can lend more and thus make more profits. In addition, banks also hold better chance to persuade term deposit clients into buying other products such as funds or insurance to further increase their revenues.\n",
        "\n",
        "You are provided a dataset containing details of marketing campaigns done via phone with various details for customers such as demographics, last campaign details etc. Can you help the bank to predict accurately whether the customer will subscribe to the focus product for the campaign - Term Deposit after the campaign?\n",
        "\n",
        "\n",
        "Data Description\n",
        "Train Set\n",
        "\n",
        "Train set contains the data to be used for model building. It has the true labels for whether the customer subscribed for term deposit (1) or not (0) "
      ]
    },
    {
      "cell_type": "markdown",
      "metadata": {
        "id": "_e-4HIqF0nm1"
      },
      "source": [
        "Sample Submission:\n",
        "\n",
        "Format for making the submission for predictions on the test set\n",
        "\n",
        "id: Unique id for each call\n",
        "\n",
        "term_deposit_subscribed: whether term deposit was subscribed post call. (1/0)"
      ]
    },
    {
      "cell_type": "code",
      "metadata": {
        "id": "fHXioKFj03BV"
      },
      "source": [
        "# imports\n",
        "import pandas as pd\n",
        "pd.set_option('display.max_columns', 500)\n",
        "pd.set_option('display.max_rows', 500)\n",
        "import numpy as np\n",
        "import matplotlib.pyplot as plt\n",
        "import seaborn as sns\n",
        "\n",
        "plt.style.use('fivethirtyeight')\n",
        "%matplotlib inline\n",
        "\n",
        "# constant figure size\n",
        "figsize = [8, 10]"
      ],
      "execution_count": null,
      "outputs": []
    },
    {
      "cell_type": "code",
      "metadata": {
        "id": "Qkke4JmV0_eD"
      },
      "source": [
        "# reading test and train data\n",
        "test = pd.read_csv('GC1_Test_file.csv')\n",
        "train = pd.read_csv('GC1_Train_file.csv')"
      ],
      "execution_count": null,
      "outputs": []
    },
    {
      "cell_type": "code",
      "metadata": {
        "id": "wKI_i99tRzi6"
      },
      "source": [
        "# setting independent and dependent variable\n",
        "id_col, target_col = 'id', 'term_deposit_subscribed' "
      ],
      "execution_count": null,
      "outputs": []
    },
    {
      "cell_type": "code",
      "metadata": {
        "id": "gpXQGL3FSZEe",
        "colab": {
          "base_uri": "https://localhost:8080/",
          "height": 53
        },
        "outputId": "7a1fe3cb-0c15-4612-82ff-a113d4430156"
      },
      "source": [
        "# shape of both datasets\n",
        "print('The test set has', test.shape[0], 'samples and', test.shape[1], 'variables')\n",
        "print('The train set has', train.shape[0], 'samples and', test.shape[1], 'variables')"
      ],
      "execution_count": null,
      "outputs": [
        {
          "output_type": "stream",
          "text": [
            "The test set has 13564 samples and 17 variables\n",
            "The train set has 31647 samples and 17 variables\n"
          ],
          "name": "stdout"
        }
      ]
    },
    {
      "cell_type": "code",
      "metadata": {
        "id": "J4TFAVWv1a8U"
      },
      "source": [
        "# test set EDA\n",
        "print(test.head())\n",
        "print(test.columns)\n",
        "print(test.describe())"
      ],
      "execution_count": null,
      "outputs": []
    },
    {
      "cell_type": "code",
      "metadata": {
        "id": "6vW3dLWt2b7b",
        "colab": {
          "base_uri": "https://localhost:8080/",
          "height": 341
        },
        "outputId": "4b009615-bbf0-4d52-e0dc-b8046c81a487"
      },
      "source": [
        "# removing null values\n",
        "print(test.isnull().sum())"
      ],
      "execution_count": null,
      "outputs": [
        {
          "output_type": "stream",
          "text": [
            "id                                      0\n",
            "customer_age                          270\n",
            "job_type                                0\n",
            "marital                                81\n",
            "education                               0\n",
            "default                                 0\n",
            "balance                               181\n",
            "housing_loan                            0\n",
            "personal_loan                          74\n",
            "communication_type                      0\n",
            "day_of_month                            0\n",
            "month                                   0\n",
            "last_contact_duration                 122\n",
            "num_contacts_in_campaign               45\n",
            "days_since_prev_campaign_contact    11123\n",
            "num_contacts_prev_campaign              0\n",
            "prev_campaign_outcome                   0\n",
            "dtype: int64\n"
          ],
          "name": "stdout"
        }
      ]
    },
    {
      "cell_type": "code",
      "metadata": {
        "id": "10gRNFYO2l3j",
        "colab": {
          "base_uri": "https://localhost:8080/",
          "height": 197
        },
        "outputId": "28150215-0468-4d49-f287-468d05b903bc"
      },
      "source": [
        "# fixing 270 'customer_age' test columns null values\n",
        "print(test.customer_age.describe())\n",
        "test.customer_age.fillna(test.customer_age.mean(), inplace=True)\n",
        "print('The \\'customer_age\\' test column has', test.customer_age.isnull().sum(), 'null values')"
      ],
      "execution_count": null,
      "outputs": [
        {
          "output_type": "stream",
          "text": [
            "count    13564.000000\n",
            "mean        40.450429\n",
            "std         10.640364\n",
            "min         18.000000\n",
            "25%         32.000000\n",
            "50%         39.000000\n",
            "75%         48.000000\n",
            "max         94.000000\n",
            "Name: customer_age, dtype: float64\n",
            "The 'customer_age' test column has 0 null values\n"
          ],
          "name": "stdout"
        }
      ]
    },
    {
      "cell_type": "code",
      "metadata": {
        "id": "K7-DVXFtXgu9",
        "colab": {
          "base_uri": "https://localhost:8080/",
          "height": 143
        },
        "outputId": "fae232a8-e4cc-44f8-9fda-e3be0c060927"
      },
      "source": [
        "# fixing 81 'marital' test columns null values\n",
        "print('The \\'marital\\' test column has', test.marital.nunique(), 'unique values')\n",
        "print(test.marital.describe())\n",
        "\n",
        "# filling NAN values with forward fill\n",
        "test.marital.ffill(inplace=True)\n",
        "print('The \\'marital\\' test column has', test.marital.isnull().sum(), 'NAN values')"
      ],
      "execution_count": null,
      "outputs": [
        {
          "output_type": "stream",
          "text": [
            "The 'marital' test column has 3 unique values\n",
            "count       13564\n",
            "unique          3\n",
            "top       married\n",
            "freq         8168\n",
            "Name: marital, dtype: object\n",
            "The 'marital' test column has 0 NAN values\n"
          ],
          "name": "stdout"
        }
      ]
    },
    {
      "cell_type": "code",
      "metadata": {
        "id": "hDJKy-ca28t8"
      },
      "source": [
        "# fixing 181 'balance' test column null values"
      ],
      "execution_count": null,
      "outputs": []
    },
    {
      "cell_type": "code",
      "metadata": {
        "id": "fA_-uZES3CBX"
      },
      "source": [
        "# fixing 74 'personal_loans' test column null values"
      ],
      "execution_count": null,
      "outputs": []
    },
    {
      "cell_type": "code",
      "metadata": {
        "id": "HfrrB2CH3Kuj"
      },
      "source": [
        "# fixing 122 'last_contact_duration' test column null values"
      ],
      "execution_count": null,
      "outputs": []
    },
    {
      "cell_type": "code",
      "metadata": {
        "id": "dAfmv82P3QLX"
      },
      "source": [
        "# fixing 45 'num_contacts_in_campaign' test column null values"
      ],
      "execution_count": null,
      "outputs": []
    },
    {
      "cell_type": "code",
      "metadata": {
        "id": "HMI3BC_jUkPI"
      },
      "source": [
        "# which columns in train set are uni/bi/multivariate/continuous?\n",
        "print('The customer_age test set contains', train.customer_age.nunique(), 'number of unique values')\n"
      ],
      "execution_count": null,
      "outputs": []
    },
    {
      "cell_type": "code",
      "metadata": {
        "id": "0GdS2qkwfwzB"
      },
      "source": [
        "# test 'customer_age' boxplot\n",
        "test.boxplot(column=['customer_age'], notch=True, figsize=figsize)\n",
        "plt.title('Customer Age')\n",
        "plt.xlabel('')\n",
        "plt.ylabel('age')\n",
        "plt.show()'''"
      ],
      "execution_count": null,
      "outputs": []
    },
    {
      "cell_type": "code",
      "metadata": {
        "id": "_Si1CBNa1oXp",
        "colab": {
          "base_uri": "https://localhost:8080/"
        },
        "outputId": "95872eb4-c039-44c8-a690-894661ddf7c4"
      },
      "source": [
        "# train eda\n",
        "print(train.head())\n",
        "print(train.columns)"
      ],
      "execution_count": null,
      "outputs": [
        {
          "output_type": "stream",
          "text": [
            "         id  customer_age  ... prev_campaign_outcome term_deposit_subscribed\n",
            "0  id_43823          28.0  ...               unknown                       0\n",
            "1  id_32289          34.0  ...                 other                       0\n",
            "2  id_10523          46.0  ...               unknown                       0\n",
            "3  id_43951          34.0  ...               unknown                       0\n",
            "4  id_40992          41.0  ...               unknown                       0\n",
            "\n",
            "[5 rows x 18 columns]\n",
            "Index(['id', 'customer_age', 'job_type', 'marital', 'education', 'default',\n",
            "       'balance', 'housing_loan', 'personal_loan', 'communication_type',\n",
            "       'day_of_month', 'month', 'last_contact_duration',\n",
            "       'num_contacts_in_campaign', 'days_since_prev_campaign_contact',\n",
            "       'num_contacts_prev_campaign', 'prev_campaign_outcome',\n",
            "       'term_deposit_subscribed'],\n",
            "      dtype='object')\n"
          ],
          "name": "stdout"
        }
      ]
    }
  ]
}