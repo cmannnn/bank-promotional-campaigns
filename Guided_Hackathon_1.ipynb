{
  "nbformat": 4,
  "nbformat_minor": 0,
  "metadata": {
    "colab": {
      "name": "Guided_Hackathon_1.ipynb",
      "provenance": [],
      "collapsed_sections": [],
      "authorship_tag": "ABX9TyPj9bko9okHMOGG3NeMLNgj",
      "include_colab_link": true
    },
    "kernelspec": {
      "name": "python3",
      "display_name": "Python 3"
    }
  },
  "cells": [
    {
      "cell_type": "markdown",
      "metadata": {
        "id": "view-in-github",
        "colab_type": "text"
      },
      "source": [
        "<a href=\"https://colab.research.google.com/github/cmannnn/bank-promotional-campaigns/blob/main/Guided_Hackathon_1.ipynb\" target=\"_parent\"><img src=\"https://colab.research.google.com/assets/colab-badge.svg\" alt=\"Open In Colab\"/></a>"
      ]
    },
    {
      "cell_type": "markdown",
      "metadata": {
        "id": "FXOYtRvs0dWu"
      },
      "source": [
        "Marketing campaigns are characterized by focusing on the customer needs and their overall satisfaction. Nevertheless, there are different variables that determine whether a marketing campaign will be successful or not. Some important aspects of a marketing campaign are as follows: \n",
        "\n",
        "Segment of the Population: To which segment of the population is the marketing campaign going to address and why? This aspect of the marketing campaign is extremely important since it will tell to which part of the population should most likely receive the message of the marketing campaign. \n",
        "\n",
        "Distribution channel to reach the customer's place: Implementing the most effective strategy in order to get the most out of this marketing campaign. What segment of the population should we address? Which instrument should we use to get our message out? (Ex: Telephones, Radio, TV, Social Media Etc.) \n",
        "\n",
        "Promotional Strategy: This is the way the strategy is going to be implemented and how are potential clients going to be address. This should be the last part of the marketing campaign analysis since there has to be an in-depth analysis of previous campaigns (If possible) in order to learn from previous mistakes and to determine how to make the marketing campaign much more effective.\n",
        "\n",
        "You are leading the marketing analytics team for a banking institution. There has been a revenue decline for the bank and they would like to know what actions to take. After investigation, it was found that the root cause is that their clients are not depositing as frequently as before. Term deposits allow banks to hold onto a deposit for a specific amount of time, so banks can lend more and thus make more profits. In addition, banks also hold better chance to persuade term deposit clients into buying other products such as funds or insurance to further increase their revenues.\n",
        "\n",
        "You are provided a dataset containing details of marketing campaigns done via phone with various details for customers such as demographics, last campaign details etc. \n",
        "\n",
        "#Can you help the bank to predict accurately whether the customer will subscribe to the focus product for the campaign - Term Deposit after the campaign?\n",
        "\n",
        "Data Description\n",
        "Train Set\n",
        "\n",
        "#Train set contains the data to be used for model building. It has the true labels for whether the customer subscribed for term deposit (1) or not (0) "
      ]
    },
    {
      "cell_type": "markdown",
      "metadata": {
        "id": "_e-4HIqF0nm1"
      },
      "source": [
        "Sample Submission:\n",
        "\n",
        "Format for making the submission for predictions on the test set\n",
        "\n",
        "id: Unique id for each call\n",
        "\n",
        "term_deposit_subscribed: whether term deposit was subscribed post call. (1/0)"
      ]
    },
    {
      "cell_type": "code",
      "metadata": {
        "id": "fHXioKFj03BV"
      },
      "source": [
        "# imports\n",
        "import pandas as pd\n",
        "pd.set_option('display.max_columns', 500)\n",
        "pd.set_option('display.max_rows', 500)\n",
        "import numpy as np\n",
        "import matplotlib.pyplot as plt\n",
        "import seaborn as sns\n",
        "import urllib.request\n",
        "\n",
        "plt.style.use('fivethirtyeight')\n",
        "%matplotlib inline"
      ],
      "execution_count": 78,
      "outputs": []
    },
    {
      "cell_type": "code",
      "metadata": {
        "colab": {
          "base_uri": "https://localhost:8080/"
        },
        "id": "tIjfdSq2YTf5",
        "outputId": "a01c630d-8e6c-41bd-d809-c298edbdaee9"
      },
      "source": [
        "from google.colab import drive\n",
        "drive.mount('/content/gdrive')"
      ],
      "execution_count": 2,
      "outputs": [
        {
          "output_type": "stream",
          "text": [
            "Mounted at /content/gdrive\n"
          ],
          "name": "stdout"
        }
      ]
    },
    {
      "cell_type": "code",
      "metadata": {
        "id": "GjR1AgrZ2b8E"
      },
      "source": [
        "import os\n",
        "os.chdir('/content/gdrive/MyDrive/Colabby Krabby Paddy')"
      ],
      "execution_count": 3,
      "outputs": []
    },
    {
      "cell_type": "code",
      "metadata": {
        "colab": {
          "base_uri": "https://localhost:8080/"
        },
        "id": "1hbu0Aed4BDu",
        "outputId": "6808e431-b8a1-4934-bf99-f354c98dd233"
      },
      "source": [
        "!ls"
      ],
      "execution_count": 4,
      "outputs": [
        {
          "output_type": "stream",
          "text": [
            " basic_computer_vision_p2.ipynb    intro_cnn_part3.ipynb\n",
            " build_image_classifier_p4.ipynb   intro_to_ML_pt1.ipynb\n",
            "'Copy of 01_intro.ipynb'\t  'Kivy Interview Question.ipynb'\n",
            "'Copy of 02_production.ipynb'\t   language_classification_deploy.ipynb\n",
            "'Copy of 03_ethics.ipynb'\t   language_classification.ipynb\n",
            "'Copy of 04_mnist_basics.ipynb'    soccer_classification.ipynb\n",
            " fast.ai_ch_questions.ipynb\t   Test_jPKyvmK.csv\n",
            " Guided_Hackathon_1.ipynb\t   Train_eP48B9k.csv\n"
          ],
          "name": "stdout"
        }
      ]
    },
    {
      "cell_type": "code",
      "metadata": {
        "id": "G_5hgSxQ4QX5"
      },
      "source": [
        "# train and test datasets\n",
        "train = pd.read_csv('Train_eP48B9k.csv')\n",
        "test = pd.read_csv('Test_jPKyvmK.csv')"
      ],
      "execution_count": 5,
      "outputs": []
    },
    {
      "cell_type": "code",
      "metadata": {
        "id": "wKI_i99tRzi6"
      },
      "source": [
        "# setting independent and dependent variable\n",
        "id_col, target_col = train['id'], train['term_deposit_subscribed'] "
      ],
      "execution_count": 6,
      "outputs": []
    },
    {
      "cell_type": "code",
      "metadata": {
        "id": "-MWZbiIhv3ve",
        "colab": {
          "base_uri": "https://localhost:8080/"
        },
        "outputId": "6a31fa2f-bc6c-4862-de34-d9edceb9ca10"
      },
      "source": [
        "print(target_col.value_counts(normalize=True))"
      ],
      "execution_count": 7,
      "outputs": [
        {
          "output_type": "stream",
          "text": [
            "0    0.892754\n",
            "1    0.107246\n",
            "Name: term_deposit_subscribed, dtype: float64\n"
          ],
          "name": "stdout"
        }
      ]
    },
    {
      "cell_type": "code",
      "metadata": {
        "colab": {
          "base_uri": "https://localhost:8080/",
          "height": 352
        },
        "id": "EKkfeJG3u-nL",
        "outputId": "7fc25ce6-1e8d-44af-c7e0-c641dbc70419"
      },
      "source": [
        "_ = sns.countplot(target_col)\n",
        "plt.title('Distribution')\n",
        "plt.show()"
      ],
      "execution_count": 8,
      "outputs": [
        {
          "output_type": "stream",
          "text": [
            "/usr/local/lib/python3.6/dist-packages/seaborn/_decorators.py:43: FutureWarning: Pass the following variable as a keyword arg: x. From version 0.12, the only valid positional argument will be `data`, and passing other arguments without an explicit keyword will result in an error or misinterpretation.\n",
            "  FutureWarning\n"
          ],
          "name": "stderr"
        },
        {
          "output_type": "display_data",
          "data": {
            "image/png": "[encoded data removed]",
            "text/plain": [
              "<Figure size 432x288 with 1 Axes>"
            ]
          },
          "metadata": {
            "tags": [],
            "needs_background": "light"
          }
        }
      ]
    },
    {
      "cell_type": "code",
      "metadata": {
        "id": "gpXQGL3FSZEe",
        "colab": {
          "base_uri": "https://localhost:8080/"
        },
        "outputId": "9444efa2-8082-490e-d7a3-b24234b1f839"
      },
      "source": [
        "# shape of both datasets\n",
        "print('The test set has', test.shape[0], 'samples and', test.shape[1], 'variables')\n",
        "print('The train set has', train.shape[0], 'samples and', test.shape[1], 'variables')"
      ],
      "execution_count": 9,
      "outputs": [
        {
          "output_type": "stream",
          "text": [
            "The test set has 13564 samples and 17 variables\n",
            "The train set has 31647 samples and 17 variables\n"
          ],
          "name": "stdout"
        }
      ]
    },
    {
      "cell_type": "markdown",
      "metadata": {
        "id": "Z5pk_xTV50cg"
      },
      "source": [
        "#Train Set EDA"
      ]
    },
    {
      "cell_type": "code",
      "metadata": {
        "id": "J4TFAVWv1a8U"
      },
      "source": [
        "# test set EDA\n",
        "print(train.head())"
      ],
      "execution_count": null,
      "outputs": []
    },
    {
      "cell_type": "code",
      "metadata": {
        "id": "MQS9fkUd5tfF"
      },
      "source": [
        "# test set columns\n",
        "print(train.columns)"
      ],
      "execution_count": null,
      "outputs": []
    },
    {
      "cell_type": "code",
      "metadata": {
        "id": "6V1rVcO15vHx"
      },
      "source": [
        "# test set describe\n",
        "print(train.describe())"
      ],
      "execution_count": null,
      "outputs": []
    },
    {
      "cell_type": "markdown",
      "metadata": {
        "id": "4dmJmJeH8XLN"
      },
      "source": [
        "# Remove Train Null Values"
      ]
    },
    {
      "cell_type": "code",
      "metadata": {
        "colab": {
          "base_uri": "https://localhost:8080/"
        },
        "id": "ohKj56q79aDf",
        "outputId": "324b2cae-de3b-4ffc-8ba5-0299bf2acf0c"
      },
      "source": [
        "print(train.isnull().sum())"
      ],
      "execution_count": 23,
      "outputs": [
        {
          "output_type": "stream",
          "text": [
            "id                                      0\n",
            "customer_age                            0\n",
            "job_type                                0\n",
            "marital                                 0\n",
            "education                               0\n",
            "default                                 0\n",
            "balance                                 0\n",
            "housing_loan                            0\n",
            "personal_loan                           0\n",
            "communication_type                      0\n",
            "day_of_month                            0\n",
            "month                                   0\n",
            "last_contact_duration                   0\n",
            "num_contacts_in_campaign                0\n",
            "days_since_prev_campaign_contact    25831\n",
            "num_contacts_prev_campaign              0\n",
            "prev_campaign_outcome                   0\n",
            "term_deposit_subscribed                 0\n",
            "dtype: int64\n"
          ],
          "name": "stdout"
        }
      ]
    },
    {
      "cell_type": "code",
      "metadata": {
        "id": "10gRNFYO2l3j",
        "colab": {
          "base_uri": "https://localhost:8080/"
        },
        "outputId": "1c0fac07-71fb-40ed-db4c-b51bf5405828"
      },
      "source": [
        "# fixing 619 train customer_age datapoints\n",
        "print(train.customer_age.describe())\n",
        "train.customer_age.fillna(train.customer_age.mean(), inplace=True)\n",
        "print('The \\'customer_age\\' train column has', train.customer_age.isnull().sum(), 'null values')"
      ],
      "execution_count": 14,
      "outputs": [
        {
          "output_type": "stream",
          "text": [
            "count    31028.000000\n",
            "mean        40.439216\n",
            "std         10.751392\n",
            "min         18.000000\n",
            "25%         32.000000\n",
            "50%         39.000000\n",
            "75%         48.000000\n",
            "max         97.000000\n",
            "Name: customer_age, dtype: float64\n",
            "The 'customer_age' train column has 0 null values\n"
          ],
          "name": "stdout"
        }
      ]
    },
    {
      "cell_type": "code",
      "metadata": {
        "id": "K7-DVXFtXgu9",
        "colab": {
          "base_uri": "https://localhost:8080/"
        },
        "outputId": "f19fa2f6-851b-474f-d8c6-6d4cfc0f4aa0"
      },
      "source": [
        "# fixing 150 'marital' train columns null values\n",
        "print('The \\'marital\\' test column has', train.marital.nunique(), 'unique values')\n",
        "print(train.marital.describe())\n",
        "\n",
        "# filling NAN values with forward fill\n",
        "train.marital.ffill(inplace=True)\n",
        "print('The \\'marital\\' test column has', train.marital.isnull().sum(), 'null values')"
      ],
      "execution_count": 15,
      "outputs": [
        {
          "output_type": "stream",
          "text": [
            "The 'marital' test column has 3 unique values\n",
            "count       31497\n",
            "unique          3\n",
            "top       married\n",
            "freq        18945\n",
            "Name: marital, dtype: object\n",
            "The 'marital' test column has 0 null values\n"
          ],
          "name": "stdout"
        }
      ]
    },
    {
      "cell_type": "code",
      "metadata": {
        "id": "hDJKy-ca28t8",
        "colab": {
          "base_uri": "https://localhost:8080/"
        },
        "outputId": "9c3e5b2f-62bd-41ae-b4e8-ade31c542839"
      },
      "source": [
        "# fixing 399 'balance' train column null values\n",
        "print('The train \\'balance\\' column has', train['balance'].nunique(), 'unique values')\n",
        "print(train['balance'].describe())\n",
        "\n",
        "# filling NAN values with mean\n",
        "train['balance'].fillna(train['balance'].mean(), inplace=True)\n",
        "print('The train \\'balance\\' column has', train['balance'].isnull().sum(), 'null values')"
      ],
      "execution_count": 16,
      "outputs": [
        {
          "output_type": "stream",
          "text": [
            "The train 'balance' column has 6563 unique values\n",
            "count     31248.000000\n",
            "mean       1368.112615\n",
            "std        3085.342417\n",
            "min       -8020.000000\n",
            "25%          72.000000\n",
            "50%         449.000000\n",
            "75%        1413.000000\n",
            "max      102128.000000\n",
            "Name: balance, dtype: float64\n",
            "The train 'balance' column has 0 null values\n"
          ],
          "name": "stdout"
        }
      ]
    },
    {
      "cell_type": "code",
      "metadata": {
        "id": "fA_-uZES3CBX",
        "colab": {
          "base_uri": "https://localhost:8080/"
        },
        "outputId": "daebbbba-bd47-488e-a825-0efbf077bcdb"
      },
      "source": [
        "# fixing 149 'personal_loan' train column null values\n",
        "print('The \\'personal_loan\\' column has', train['personal_loan'].nunique(), 'unique values')\n",
        "print(train['personal_loan'].value_counts(normalize=True))\n",
        "\n",
        "# filling NAN values with back fill\n",
        "train['personal_loan'].fillna(method='bfill', inplace=True)\n",
        "print('The \\personal_loan\\' column has', train['personal_loan'].isnull().sum(), 'null values')"
      ],
      "execution_count": 17,
      "outputs": [
        {
          "output_type": "stream",
          "text": [
            "The 'personal_loan' column has 2 unique values\n",
            "no     0.840149\n",
            "yes    0.159851\n",
            "Name: personal_loan, dtype: float64\n",
            "The \\personal_loan' column has 0 null values\n"
          ],
          "name": "stdout"
        }
      ]
    },
    {
      "cell_type": "code",
      "metadata": {
        "id": "HfrrB2CH3Kuj",
        "colab": {
          "base_uri": "https://localhost:8080/"
        },
        "outputId": "4f506364-0ff9-44ee-b78f-5254c40321b8"
      },
      "source": [
        "# fixing 311 'last_contact_duration' train column null values\n",
        "print('The \\'last_contact_duration\\' column has', train['last_contact_duration'].nunique(), 'unique values')\n",
        "print(train['last_contact_duration'].describe())\n",
        "\n",
        "# filling NAN values with mean\n",
        "train['last_contact_duration'].fillna(train['last_contact_duration'].mean(), inplace=True)\n",
        "print('The \\'last_contact_duration\\' column has', train['last_contact_duration'].isnull().sum(), 'null values')"
      ],
      "execution_count": 18,
      "outputs": [
        {
          "output_type": "stream",
          "text": [
            "The 'last_contact_duration' column has 1447 unique values\n",
            "count    31336.000000\n",
            "mean       256.184038\n",
            "std        256.181479\n",
            "min          0.000000\n",
            "25%        103.000000\n",
            "50%        179.000000\n",
            "75%        315.250000\n",
            "max       4900.000000\n",
            "Name: last_contact_duration, dtype: float64\n",
            "The 'last_contact_duration' column has 0 null values\n"
          ],
          "name": "stdout"
        }
      ]
    },
    {
      "cell_type": "code",
      "metadata": {
        "id": "dAfmv82P3QLX",
        "colab": {
          "base_uri": "https://localhost:8080/"
        },
        "outputId": "5b27d8bc-a65f-45dd-ea06-d31ba74f4486"
      },
      "source": [
        "# fixing 112 'num_contacts_in_campaign' train column null values\n",
        "print('The \\'num_contacts_in_campaign\\' column has', train['num_contacts_in_campaign'].nunique(), 'unique values')\n",
        "print(train['num_contacts_in_campaign'].describe())\n",
        "\n",
        "# filling NAN values with bfill\n",
        "train['num_contacts_in_campaign'].fillna(method='bfill', inplace=True)\n",
        "print('The \\'num_contacts_in_campaign\\' has', train['num_contacts_in_campaign'].isnull().sum(), 'null values')"
      ],
      "execution_count": 19,
      "outputs": [
        {
          "output_type": "stream",
          "text": [
            "The 'num_contacts_in_campaign' column has 46 unique values\n",
            "count    31535.000000\n",
            "mean         2.776629\n",
            "std          3.153293\n",
            "min          1.000000\n",
            "25%          1.000000\n",
            "50%          2.000000\n",
            "75%          3.000000\n",
            "max         63.000000\n",
            "Name: num_contacts_in_campaign, dtype: float64\n",
            "The 'num_contacts_in_campaign' has 0 null values\n"
          ],
          "name": "stdout"
        }
      ]
    },
    {
      "cell_type": "code",
      "metadata": {
        "id": "1d3E2oXIAnQU",
        "colab": {
          "base_uri": "https://localhost:8080/"
        },
        "outputId": "a6b806e5-28ee-48dd-dfbd-a3ee4d5178e2"
      },
      "source": [
        "# fixing 25831 null values in the 'days_since_prev_campaign_contact' train column\n",
        "# calculating % of null values\n",
        "null_values = ((train['days_since_prev_campaign_contact'].isnull().sum() / len(train['days_since_prev_campaign_contact'])) * 100).round(2)\n",
        "\n",
        "# because over 80% of values are null, not touching this column\n",
        "print(f'{null_values} of the train \\'days_since_prev_campaign_contact\\' column are null')"
      ],
      "execution_count": 37,
      "outputs": [
        {
          "output_type": "stream",
          "text": [
            "81.62 of the train 'days_since_prev_campaign_contact' column are null\n"
          ],
          "name": "stdout"
        }
      ]
    },
    {
      "cell_type": "markdown",
      "metadata": {
        "id": "diulY_BXpy_1"
      },
      "source": [
        "# Determining Categorical/Numerical Variables"
      ]
    },
    {
      "cell_type": "code",
      "metadata": {
        "id": "HMI3BC_jUkPI",
        "colab": {
          "base_uri": "https://localhost:8080/"
        },
        "outputId": "78ba8470-ff2b-4a12-a660-e476e985cf85"
      },
      "source": [
        "# which columns in train set are uni/bi/multivariate/continuous?\n",
        "print(train.dtypes)"
      ],
      "execution_count": 46,
      "outputs": [
        {
          "output_type": "stream",
          "text": [
            "id                                   object\n",
            "customer_age                        float64\n",
            "job_type                             object\n",
            "marital                              object\n",
            "education                            object\n",
            "default                              object\n",
            "balance                             float64\n",
            "housing_loan                         object\n",
            "personal_loan                        object\n",
            "communication_type                   object\n",
            "day_of_month                          int64\n",
            "month                                object\n",
            "last_contact_duration               float64\n",
            "num_contacts_in_campaign            float64\n",
            "days_since_prev_campaign_contact    float64\n",
            "num_contacts_prev_campaign            int64\n",
            "prev_campaign_outcome                object\n",
            "term_deposit_subscribed               int64\n",
            "dtype: object\n"
          ],
          "name": "stdout"
        }
      ]
    },
    {
      "cell_type": "code",
      "metadata": {
        "id": "V-RD49lWr2cE"
      },
      "source": [
        "# defining non target col features\n",
        "features = [c for c in train.columns if c not in ['id', 'term_deposit_subscribed']]\n",
        "print(features)"
      ],
      "execution_count": null,
      "outputs": []
    },
    {
      "cell_type": "code",
      "metadata": {
        "colab": {
          "base_uri": "https://localhost:8080/"
        },
        "id": "gz-dQc5PrPHY",
        "outputId": "ba33f0f6-a369-4e2d-8852-afd41004da61"
      },
      "source": [
        "# defining categorical columns\n",
        "categorical = train.select_dtypes(include=['object'])\n",
        "cat_cols = [c for c in features if c in categorical]\n",
        "print(f'The categorical columns in the trainng set are: {cat_cols}')"
      ],
      "execution_count": 51,
      "outputs": [
        {
          "output_type": "stream",
          "text": [
            "The categorical columns in the trainng set are ['job_type', 'marital', 'education', 'default', 'housing_loan', 'personal_loan', 'communication_type', 'month', 'prev_campaign_outcome']\n"
          ],
          "name": "stdout"
        }
      ]
    },
    {
      "cell_type": "code",
      "metadata": {
        "colab": {
          "base_uri": "https://localhost:8080/"
        },
        "id": "7MtPTUqItKon",
        "outputId": "0e907f20-aa83-4589-bf64-1a18980b3e77"
      },
      "source": [
        "# defining numerical columns\n",
        "numerical = [n for n in features if n not in cat_cols]\n",
        "print(f'The numeric columns in the training set are: {numerical}')"
      ],
      "execution_count": 56,
      "outputs": [
        {
          "output_type": "stream",
          "text": [
            "The numeric columns in the training set are: ['customer_age', 'balance', 'day_of_month', 'last_contact_duration', 'num_contacts_in_campaign', 'days_since_prev_campaign_contact', 'num_contacts_prev_campaign']\n"
          ],
          "name": "stdout"
        }
      ]
    },
    {
      "cell_type": "markdown",
      "metadata": {
        "id": "HTxBEVt3txjW"
      },
      "source": [
        "# Training Set EDA Graphs!"
      ]
    },
    {
      "cell_type": "markdown",
      "metadata": {
        "id": "LyP2_6z2t2m9"
      },
      "source": [
        "Univariate Analysis"
      ]
    },
    {
      "cell_type": "code",
      "metadata": {
        "id": "0GdS2qkwfwzB",
        "colab": {
          "base_uri": "https://localhost:8080/",
          "height": 297
        },
        "outputId": "56af8563-8d30-4eb4-9c8d-a8ec8eaaa813"
      },
      "source": [
        "# Customer age\n",
        "fig, ax = plt.subplots(1)\n",
        "plt.boxplot('customer_age', data=train, notch=True)\n",
        "plt.title('Customer age', color='white')\n",
        "ax.set_xticklabels(' ')"
      ],
      "execution_count": 122,
      "outputs": [
        {
          "output_type": "execute_result",
          "data": {
            "text/plain": [
              "[Text(0, 0, ' ')]"
            ]
          },
          "metadata": {
            "tags": []
          },
          "execution_count": 122
        },
        {
          "output_type": "display_data",
          "data": {
            "image/png": "[encoded data removed]",
            "text/plain": [
              "<Figure size 432x288 with 1 Axes>"
            ]
          },
          "metadata": {
            "tags": [],
            "needs_background": "light"
          }
        }
      ]
    },
    {
      "cell_type": "markdown",
      "metadata": {
        "id": "LNdrtj5Lt7b8"
      },
      "source": [
        "Bivariate Analysis"
      ]
    }
  ]
}