{
  "nbformat": 4,
  "nbformat_minor": 0,
  "metadata": {
    "colab": {
      "name": "Guided_Hackathon_1.ipynb",
      "provenance": [],
      "collapsed_sections": [],
      "authorship_tag": "ABX9TyNJ9JgcF+wzykROZaHHG765",
      "include_colab_link": true
    },
    "kernelspec": {
      "name": "python3",
      "display_name": "Python 3"
    }
  },
  "cells": [
    {
      "cell_type": "markdown",
      "metadata": {
        "id": "view-in-github",
        "colab_type": "text"
      },
      "source": [
        "<a href=\"https://colab.research.google.com/github/cmannnn/bank-promotional-campaigns/blob/main/Guided_Hackathon_1.ipynb\" target=\"_parent\"><img src=\"https://colab.research.google.com/assets/colab-badge.svg\" alt=\"Open In Colab\"/></a>"
      ]
    },
    {
      "cell_type": "markdown",
      "metadata": {
        "id": "FXOYtRvs0dWu"
      },
      "source": [
        "Marketing campaigns are characterized by focusing on the customer needs and their overall satisfaction. Nevertheless, there are different variables that determine whether a marketing campaign will be successful or not. Some important aspects of a marketing campaign are as follows: \n",
        "\n",
        "Segment of the Population: To which segment of the population is the marketing campaign going to address and why? This aspect of the marketing campaign is extremely important since it will tell to which part of the population should most likely receive the message of the marketing campaign. \n",
        "\n",
        "Distribution channel to reach the customer's place: Implementing the most effective strategy in order to get the most out of this marketing campaign. What segment of the population should we address? Which instrument should we use to get our message out? (Ex: Telephones, Radio, TV, Social Media Etc.) \n",
        "\n",
        "Promotional Strategy: This is the way the strategy is going to be implemented and how are potential clients going to be address. This should be the last part of the marketing campaign analysis since there has to be an in-depth analysis of previous campaigns (If possible) in order to learn from previous mistakes and to determine how to make the marketing campaign much more effective.\n",
        "\n",
        "You are leading the marketing analytics team for a banking institution. There has been a revenue decline for the bank and they would like to know what actions to take. After investigation, it was found that the root cause is that their clients are not depositing as frequently as before. Term deposits allow banks to hold onto a deposit for a specific amount of time, so banks can lend more and thus make more profits. In addition, banks also hold better chance to persuade term deposit clients into buying other products such as funds or insurance to further increase their revenues.\n",
        "\n",
        "You are provided a dataset containing details of marketing campaigns done via phone with various details for customers such as demographics, last campaign details etc. \n",
        "\n",
        "#Can you help the bank to predict accurately whether the customer will subscribe to the focus product for the campaign - Term Deposit after the campaign?\n",
        "\n",
        "Data Description\n",
        "Train Set\n",
        "\n",
        "#Train set contains the data to be used for model building. It has the true labels for whether the customer subscribed for term deposit (1) or not (0) "
      ]
    },
    {
      "cell_type": "markdown",
      "metadata": {
        "id": "_e-4HIqF0nm1"
      },
      "source": [
        "Sample Submission:\n",
        "\n",
        "Format for making the submission for predictions on the test set\n",
        "\n",
        "id: Unique id for each call\n",
        "\n",
        "term_deposit_subscribed: whether term deposit was subscribed post call. (1/0)"
      ]
    },
    {
      "cell_type": "code",
      "metadata": {
        "id": "fHXioKFj03BV"
      },
      "source": [
        "# imports\n",
        "import pandas as pd\n",
        "pd.set_option('display.max_columns', 500)\n",
        "pd.set_option('display.max_rows', 500)\n",
        "import numpy as np\n",
        "import matplotlib.pyplot as plt\n",
        "import seaborn as sns\n",
        "import urllib.request\n",
        "\n",
        "plt.style.use('fivethirtyeight')\n",
        "%matplotlib inline"
      ],
      "execution_count": 27,
      "outputs": []
    },
    {
      "cell_type": "code",
      "metadata": {
        "colab": {
          "base_uri": "https://localhost:8080/"
        },
        "id": "tIjfdSq2YTf5",
        "outputId": "ead5e944-e28a-4594-b16e-b310891648c1"
      },
      "source": [
        "from google.colab import drive\n",
        "drive.mount('/content/gdrive')"
      ],
      "execution_count": 28,
      "outputs": [
        {
          "output_type": "stream",
          "text": [
            "Drive already mounted at /content/gdrive; to attempt to forcibly remount, call drive.mount(\"/content/gdrive\", force_remount=True).\n"
          ],
          "name": "stdout"
        }
      ]
    },
    {
      "cell_type": "code",
      "metadata": {
        "id": "GjR1AgrZ2b8E"
      },
      "source": [
        "import os\n",
        "os.chdir('/content/gdrive/MyDrive/Colabby Krabby Paddy')"
      ],
      "execution_count": 29,
      "outputs": []
    },
    {
      "cell_type": "code",
      "metadata": {
        "id": "1hbu0Aed4BDu"
      },
      "source": [
        "!ls"
      ],
      "execution_count": null,
      "outputs": []
    },
    {
      "cell_type": "code",
      "metadata": {
        "id": "G_5hgSxQ4QX5"
      },
      "source": [
        "# train and test datasets\n",
        "train = pd.read_csv('Train_eP48B9k.csv')\n",
        "test = pd.read_csv('Test_jPKyvmK.csv')"
      ],
      "execution_count": 31,
      "outputs": []
    },
    {
      "cell_type": "code",
      "metadata": {
        "id": "wKI_i99tRzi6"
      },
      "source": [
        "# setting independent and dependent variable\n",
        "id_col, target_col = train['id'], train['term_deposit_subscribed'] "
      ],
      "execution_count": 32,
      "outputs": []
    },
    {
      "cell_type": "code",
      "metadata": {
        "id": "-MWZbiIhv3ve",
        "colab": {
          "base_uri": "https://localhost:8080/"
        },
        "outputId": "fb16ccca-ddf9-4fd1-90c6-64df625d02bc"
      },
      "source": [
        "print(target_col.value_counts(normalize=True))"
      ],
      "execution_count": 33,
      "outputs": [
        {
          "output_type": "stream",
          "text": [
            "0    0.892754\n",
            "1    0.107246\n",
            "Name: term_deposit_subscribed, dtype: float64\n"
          ],
          "name": "stdout"
        }
      ]
    },
    {
      "cell_type": "code",
      "metadata": {
        "colab": {
          "base_uri": "https://localhost:8080/",
          "height": 352
        },
        "id": "EKkfeJG3u-nL",
        "outputId": "88198e60-1f49-4e3f-d654-98acf7233c64"
      },
      "source": [
        "# target distribution countplot\n",
        "_ = sns.countplot(target_col)\n",
        "plt.title('Distribution')\n",
        "plt.show()"
      ],
      "execution_count": 34,
      "outputs": [
        {
          "output_type": "stream",
          "text": [
            "/usr/local/lib/python3.6/dist-packages/seaborn/_decorators.py:43: FutureWarning: Pass the following variable as a keyword arg: x. From version 0.12, the only valid positional argument will be `data`, and passing other arguments without an explicit keyword will result in an error or misinterpretation.\n",
            "  FutureWarning\n"
          ],
          "name": "stderr"
        },
        {
          "output_type": "display_data",
          "data": {
            "image/png": "[encoded data removed]",
            "text/plain": [
              "<Figure size 432x288 with 1 Axes>"
            ]
          },
          "metadata": {
            "tags": [],
            "needs_background": "light"
          }
        }
      ]
    },
    {
      "cell_type": "code",
      "metadata": {
        "id": "gpXQGL3FSZEe",
        "colab": {
          "base_uri": "https://localhost:8080/"
        },
        "outputId": "108ea5b3-0e52-485d-fbc0-46454a09b39c"
      },
      "source": [
        "# shape of both datasets\n",
        "print('The test set has', test.shape[0], 'samples and', test.shape[1], 'variables')\n",
        "print('The train set has', train.shape[0], 'samples and', test.shape[1], 'variables')"
      ],
      "execution_count": 35,
      "outputs": [
        {
          "output_type": "stream",
          "text": [
            "The test set has 13564 samples and 17 variables\n",
            "The train set has 31647 samples and 17 variables\n"
          ],
          "name": "stdout"
        }
      ]
    },
    {
      "cell_type": "markdown",
      "metadata": {
        "id": "Z5pk_xTV50cg"
      },
      "source": [
        "#Train Set EDA"
      ]
    },
    {
      "cell_type": "code",
      "metadata": {
        "id": "J4TFAVWv1a8U"
      },
      "source": [
        "# test set EDA\n",
        "print(train.head())"
      ],
      "execution_count": null,
      "outputs": []
    },
    {
      "cell_type": "code",
      "metadata": {
        "id": "MQS9fkUd5tfF"
      },
      "source": [
        "# test set columns\n",
        "print(train.columns)"
      ],
      "execution_count": null,
      "outputs": []
    },
    {
      "cell_type": "code",
      "metadata": {
        "id": "6V1rVcO15vHx"
      },
      "source": [
        "# test set describe\n",
        "print(train.describe())"
      ],
      "execution_count": null,
      "outputs": []
    },
    {
      "cell_type": "markdown",
      "metadata": {
        "id": "4dmJmJeH8XLN"
      },
      "source": [
        "# Remove Train Null Values"
      ]
    },
    {
      "cell_type": "code",
      "metadata": {
        "id": "ohKj56q79aDf"
      },
      "source": [
        "print(train.isnull().sum())"
      ],
      "execution_count": null,
      "outputs": []
    },
    {
      "cell_type": "code",
      "metadata": {
        "id": "10gRNFYO2l3j"
      },
      "source": [
        "# fixing 619 train customer_age datapoints\n",
        "print(train.customer_age.describe())\n",
        "train.customer_age.fillna(train.customer_age.mean(), inplace=True)\n",
        "print('The \\'customer_age\\' train column has', train.customer_age.isnull().sum(), 'null values')"
      ],
      "execution_count": null,
      "outputs": []
    },
    {
      "cell_type": "code",
      "metadata": {
        "id": "K7-DVXFtXgu9"
      },
      "source": [
        "# fixing 150 'marital' train columns null values\n",
        "print('The \\'marital\\' test column has', train.marital.nunique(), 'unique values')\n",
        "print(train.marital.describe())\n",
        "\n",
        "# filling NAN values with forward fill\n",
        "train.marital.ffill(inplace=True)\n",
        "print('The \\'marital\\' test column has', train.marital.isnull().sum(), 'null values')"
      ],
      "execution_count": null,
      "outputs": []
    },
    {
      "cell_type": "code",
      "metadata": {
        "id": "hDJKy-ca28t8"
      },
      "source": [
        "# fixing 399 'balance' train column null values\n",
        "print('The train \\'balance\\' column has', train['balance'].nunique(), 'unique values')\n",
        "print(train['balance'].describe())\n",
        "\n",
        "# filling NAN values with mean\n",
        "train['balance'].fillna(train['balance'].mean(), inplace=True)\n",
        "print('The train \\'balance\\' column has', train['balance'].isnull().sum(), 'null values')"
      ],
      "execution_count": null,
      "outputs": []
    },
    {
      "cell_type": "code",
      "metadata": {
        "id": "fA_-uZES3CBX"
      },
      "source": [
        "# fixing 149 'personal_loan' train column null values\n",
        "print('The \\'personal_loan\\' column has', train['personal_loan'].nunique(), 'unique values')\n",
        "print(train['personal_loan'].value_counts(normalize=True))\n",
        "\n",
        "# filling NAN values with back fill\n",
        "train['personal_loan'].fillna(method='bfill', inplace=True)\n",
        "print('The \\personal_loan\\' column has', train['personal_loan'].isnull().sum(), 'null values')"
      ],
      "execution_count": null,
      "outputs": []
    },
    {
      "cell_type": "code",
      "metadata": {
        "id": "HfrrB2CH3Kuj",
        "colab": {
          "base_uri": "https://localhost:8080/"
        },
        "outputId": "e9b9592c-e67b-4bf4-fff1-b2d0a9a7a9b7"
      },
      "source": [
        "# fixing 311 'last_contact_duration' train column null values\n",
        "print('The \\'last_contact_duration\\' column has', train['last_contact_duration'].nunique(), 'unique values')\n",
        "print(train['last_contact_duration'].describe())\n",
        "\n",
        "# filling NAN values with mean\n",
        "train['last_contact_duration'].fillna(train['last_contact_duration'].mean(), inplace=True)\n",
        "print('The \\'last_contact_duration\\' column has', train['last_contact_duration'].isnull().sum(), 'null values')"
      ],
      "execution_count": 44,
      "outputs": [
        {
          "output_type": "stream",
          "text": [
            "The 'last_contact_duration' column has 1447 unique values\n",
            "count    31336.000000\n",
            "mean       256.184038\n",
            "std        256.181479\n",
            "min          0.000000\n",
            "25%        103.000000\n",
            "50%        179.000000\n",
            "75%        315.250000\n",
            "max       4900.000000\n",
            "Name: last_contact_duration, dtype: float64\n",
            "The 'last_contact_duration' column has 0 null values\n"
          ],
          "name": "stdout"
        }
      ]
    },
    {
      "cell_type": "code",
      "metadata": {
        "id": "dAfmv82P3QLX",
        "colab": {
          "base_uri": "https://localhost:8080/"
        },
        "outputId": "2e7ddba5-4743-4952-a294-f47864009094"
      },
      "source": [
        "# fixing 112 'num_contacts_in_campaign' train column null values\n",
        "print('The \\'num_contacts_in_campaign\\' column has', train['num_contacts_in_campaign'].nunique(), 'unique values')\n",
        "print(train['num_contacts_in_campaign'].describe())\n",
        "\n",
        "# filling NAN values with bfill\n",
        "train['num_contacts_in_campaign'].fillna(method='bfill', inplace=True)\n",
        "print('The \\'num_contacts_in_campaign\\' has', train['num_contacts_in_campaign'].isnull().sum(), 'null values')"
      ],
      "execution_count": 45,
      "outputs": [
        {
          "output_type": "stream",
          "text": [
            "The 'num_contacts_in_campaign' column has 46 unique values\n",
            "count    31535.000000\n",
            "mean         2.776629\n",
            "std          3.153293\n",
            "min          1.000000\n",
            "25%          1.000000\n",
            "50%          2.000000\n",
            "75%          3.000000\n",
            "max         63.000000\n",
            "Name: num_contacts_in_campaign, dtype: float64\n",
            "The 'num_contacts_in_campaign' has 0 null values\n"
          ],
          "name": "stdout"
        }
      ]
    },
    {
      "cell_type": "code",
      "metadata": {
        "id": "1d3E2oXIAnQU",
        "colab": {
          "base_uri": "https://localhost:8080/"
        },
        "outputId": "285c8da1-cd29-4bcf-e976-c4e4bb7578a5"
      },
      "source": [
        "# fixing 25831 null values in the 'days_since_prev_campaign_contact' train column\n",
        "# calculating % of null values\n",
        "null_values = ((train['days_since_prev_campaign_contact'].isnull().sum() / len(train['days_since_prev_campaign_contact'])) * 100).round(2)\n",
        "\n",
        "# because over 80% of values are null, not touching this column\n",
        "print(f'{null_values} of the train \\'days_since_prev_campaign_contact\\' column are null')"
      ],
      "execution_count": 46,
      "outputs": [
        {
          "output_type": "stream",
          "text": [
            "81.62 of the train 'days_since_prev_campaign_contact' column are null\n"
          ],
          "name": "stdout"
        }
      ]
    },
    {
      "cell_type": "markdown",
      "metadata": {
        "id": "diulY_BXpy_1"
      },
      "source": [
        "# Determining Categorical/Numerical Variables"
      ]
    },
    {
      "cell_type": "code",
      "metadata": {
        "id": "HMI3BC_jUkPI",
        "colab": {
          "base_uri": "https://localhost:8080/"
        },
        "outputId": "517de2cc-dc67-491d-de5f-575beb5d53c3"
      },
      "source": [
        "# which columns in train set are uni/bi/multivariate/continuous?\n",
        "print(train.dtypes)"
      ],
      "execution_count": 47,
      "outputs": [
        {
          "output_type": "stream",
          "text": [
            "id                                   object\n",
            "customer_age                        float64\n",
            "job_type                             object\n",
            "marital                              object\n",
            "education                            object\n",
            "default                              object\n",
            "balance                             float64\n",
            "housing_loan                         object\n",
            "personal_loan                        object\n",
            "communication_type                   object\n",
            "day_of_month                          int64\n",
            "month                                object\n",
            "last_contact_duration               float64\n",
            "num_contacts_in_campaign            float64\n",
            "days_since_prev_campaign_contact    float64\n",
            "num_contacts_prev_campaign            int64\n",
            "prev_campaign_outcome                object\n",
            "term_deposit_subscribed               int64\n",
            "dtype: object\n"
          ],
          "name": "stdout"
        }
      ]
    },
    {
      "cell_type": "code",
      "metadata": {
        "id": "V-RD49lWr2cE",
        "colab": {
          "base_uri": "https://localhost:8080/"
        },
        "outputId": "25eabe57-f07c-4a19-bf8b-8dd13e0431b1"
      },
      "source": [
        "# defining non target col features\n",
        "features = [c for c in train.columns if c not in ['id', 'term_deposit_subscribed']]\n",
        "print(features)"
      ],
      "execution_count": 48,
      "outputs": [
        {
          "output_type": "stream",
          "text": [
            "['customer_age', 'job_type', 'marital', 'education', 'default', 'balance', 'housing_loan', 'personal_loan', 'communication_type', 'day_of_month', 'month', 'last_contact_duration', 'num_contacts_in_campaign', 'days_since_prev_campaign_contact', 'num_contacts_prev_campaign', 'prev_campaign_outcome']\n"
          ],
          "name": "stdout"
        }
      ]
    },
    {
      "cell_type": "code",
      "metadata": {
        "colab": {
          "base_uri": "https://localhost:8080/"
        },
        "id": "gz-dQc5PrPHY",
        "outputId": "7f62f911-2357-4417-e546-d5dc73f8a88b"
      },
      "source": [
        "# defining categorical columns\n",
        "categorical = train.select_dtypes(include=['object'])\n",
        "cat_cols = [c for c in features if c in categorical]\n",
        "print(f'The categorical columns in the trainng set are: {cat_cols}')"
      ],
      "execution_count": 49,
      "outputs": [
        {
          "output_type": "stream",
          "text": [
            "The categorical columns in the trainng set are: ['job_type', 'marital', 'education', 'default', 'housing_loan', 'personal_loan', 'communication_type', 'month', 'prev_campaign_outcome']\n"
          ],
          "name": "stdout"
        }
      ]
    },
    {
      "cell_type": "code",
      "metadata": {
        "colab": {
          "base_uri": "https://localhost:8080/"
        },
        "id": "7MtPTUqItKon",
        "outputId": "9424869c-4f88-4ea9-af80-991892658239"
      },
      "source": [
        "# defining numerical columns\n",
        "numerical = [n for n in features if n not in cat_cols]\n",
        "print(f'The numeric columns in the training set are: {numerical}')"
      ],
      "execution_count": 50,
      "outputs": [
        {
          "output_type": "stream",
          "text": [
            "The numeric columns in the training set are: ['customer_age', 'balance', 'day_of_month', 'last_contact_duration', 'num_contacts_in_campaign', 'days_since_prev_campaign_contact', 'num_contacts_prev_campaign']\n"
          ],
          "name": "stdout"
        }
      ]
    },
    {
      "cell_type": "markdown",
      "metadata": {
        "id": "HTxBEVt3txjW"
      },
      "source": [
        "# Training Set EDA Graphs!"
      ]
    },
    {
      "cell_type": "markdown",
      "metadata": {
        "id": "LyP2_6z2t2m9"
      },
      "source": [
        "Univariate Analysis"
      ]
    },
    {
      "cell_type": "code",
      "metadata": {
        "id": "0GdS2qkwfwzB"
      },
      "source": [
        "# categorical pies\n",
        "fig, axes = plt.subplots(5, 2, figsize=(15,19))\n",
        "axes = [ax for axes_row in axes for ax in axes_row]\n",
        "\n",
        "for i,c in enumerate(train[cat_cols]):\n",
        "  _ = train[c].value_counts()[::-1].plot(kind='pie', ax=axes[i], autopct='%.0f%%', fontsize=12)\n",
        "  _ = axes[i].set_ylabel(' ')\n",
        "  _ = axes[i].set_title(label = c)\n",
        "\n",
        "plt.tight_layout()\n",
        "plt.show()"
      ],
      "execution_count": null,
      "outputs": []
    },
    {
      "cell_type": "code",
      "metadata": {
        "id": "SZf_WjVjAIrP",
        "colab": {
          "base_uri": "https://localhost:8080/",
          "height": 1000
        },
        "outputId": "98dcdc2a-e119-4203-e9e7-dfd2bb7ec246"
      },
      "source": [
        "# categotical barcharts\n",
        "fig, axes = plt.subplots(3,3, figsize=(15,15))\n",
        "axes = [ax for axes_row in axes for ax in axes_row]\n",
        "\n",
        "for i,c in enumerate(train[cat_cols]):\n",
        "  _ = train[c].value_counts()[::-1].plot(kind='barh', title=c, fontsize=10, ax=axes[i])\n",
        "\n",
        "plt.tight_layout()\n",
        "plt.show()"
      ],
      "execution_count": 69,
      "outputs": [
        {
          "output_type": "display_data",
          "data": {
            "image/png": "[encoded data removed]",
            "text/plain": [
              "<Figure size 1080x1080 with 9 Axes>"
            ]
          },
          "metadata": {
            "tags": [],
            "needs_background": "light"
          }
        }
      ]
    },
    {
      "cell_type": "markdown",
      "metadata": {
        "id": "LNdrtj5Lt7b8"
      },
      "source": [
        "Bivariate Analysis"
      ]
    }
  ]
}