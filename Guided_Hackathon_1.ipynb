{
  "nbformat": 4,
  "nbformat_minor": 0,
  "metadata": {
    "colab": {
      "name": "Guided_Hackathon_1.ipynb",
      "provenance": [],
      "collapsed_sections": [],
      "authorship_tag": "ABX9TyMa6gE1qsgqYO5alBgKH6g/",
      "include_colab_link": true
    },
    "kernelspec": {
      "name": "python3",
      "display_name": "Python 3"
    }
  },
  "cells": [
    {
      "cell_type": "markdown",
      "metadata": {
        "id": "view-in-github",
        "colab_type": "text"
      },
      "source": [
        "<a href=\"https://colab.research.google.com/github/cmannnn/bank-promotional-campaigns/blob/main/Guided_Hackathon_1.ipynb\" target=\"_parent\"><img src=\"https://colab.research.google.com/assets/colab-badge.svg\" alt=\"Open In Colab\"/></a>"
      ]
    },
    {
      "cell_type": "markdown",
      "metadata": {
        "id": "FXOYtRvs0dWu"
      },
      "source": [
        "Marketing campaigns are characterized by focusing on the customer needs and their overall satisfaction. Nevertheless, there are different variables that determine whether a marketing campaign will be successful or not. Some important aspects of a marketing campaign are as follows: \n",
        "\n",
        "Segment of the Population: To which segment of the population is the marketing campaign going to address and why? This aspect of the marketing campaign is extremely important since it will tell to which part of the population should most likely receive the message of the marketing campaign. \n",
        "\n",
        "Distribution channel to reach the customer's place: Implementing the most effective strategy in order to get the most out of this marketing campaign. What segment of the population should we address? Which instrument should we use to get our message out? (Ex: Telephones, Radio, TV, Social Media Etc.) \n",
        "\n",
        "Promotional Strategy: This is the way the strategy is going to be implemented and how are potential clients going to be address. This should be the last part of the marketing campaign analysis since there has to be an in-depth analysis of previous campaigns (If possible) in order to learn from previous mistakes and to determine how to make the marketing campaign much more effective.\n",
        "\n",
        "You are leading the marketing analytics team for a banking institution. There has been a revenue decline for the bank and they would like to know what actions to take. After investigation, it was found that the root cause is that their clients are not depositing as frequently as before. Term deposits allow banks to hold onto a deposit for a specific amount of time, so banks can lend more and thus make more profits. In addition, banks also hold better chance to persuade term deposit clients into buying other products such as funds or insurance to further increase their revenues.\n",
        "\n",
        "You are provided a dataset containing details of marketing campaigns done via phone with various details for customers such as demographics, last campaign details etc. \n",
        "\n",
        "#Can you help the bank to predict accurately whether the customer will subscribe to the focus product for the campaign - Term Deposit after the campaign?\n",
        "\n",
        "Data Description\n",
        "Train Set\n",
        "\n",
        "#Train set contains the data to be used for model building. It has the true labels for whether the customer subscribed for term deposit (1) or not (0) "
      ]
    },
    {
      "cell_type": "markdown",
      "metadata": {
        "id": "_e-4HIqF0nm1"
      },
      "source": [
        "Sample Submission:\n",
        "\n",
        "Format for making the submission for predictions on the test set\n",
        "\n",
        "id: Unique id for each call\n",
        "\n",
        "term_deposit_subscribed: whether term deposit was subscribed post call. (1/0)"
      ]
    },
    {
      "cell_type": "code",
      "metadata": {
        "id": "fHXioKFj03BV"
      },
      "source": [
        "# imports\n",
        "import pandas as pd\n",
        "pd.set_option('display.max_columns', 500)\n",
        "pd.set_option('display.max_rows', 500)\n",
        "import numpy as np\n",
        "import matplotlib.pyplot as plt\n",
        "import seaborn as sns\n",
        "import urllib.request\n",
        "\n",
        "plt.style.use('fivethirtyeight')\n",
        "%matplotlib inline\n",
        "\n",
        "# constant figure size\n",
        "figsize = [8, 10]"
      ],
      "execution_count": 1,
      "outputs": []
    },
    {
      "cell_type": "code",
      "metadata": {
        "colab": {
          "base_uri": "https://localhost:8080/"
        },
        "id": "tIjfdSq2YTf5",
        "outputId": "08663ca6-dba9-4746-c759-f2b73dac9acd"
      },
      "source": [
        "from google.colab import drive\n",
        "drive.mount('/content/gdrive')"
      ],
      "execution_count": 2,
      "outputs": [
        {
          "output_type": "stream",
          "text": [
            "Mounted at /content/gdrive\n"
          ],
          "name": "stdout"
        }
      ]
    },
    {
      "cell_type": "code",
      "metadata": {
        "id": "GjR1AgrZ2b8E"
      },
      "source": [
        "import os\n",
        "os.chdir('/content/gdrive/MyDrive/Colabby Krabby Paddy')"
      ],
      "execution_count": 3,
      "outputs": []
    },
    {
      "cell_type": "code",
      "metadata": {
        "colab": {
          "base_uri": "https://localhost:8080/"
        },
        "id": "1hbu0Aed4BDu",
        "outputId": "dec0978f-17a5-41f0-b14f-4e281368c724"
      },
      "source": [
        "!ls"
      ],
      "execution_count": 4,
      "outputs": [
        {
          "output_type": "stream",
          "text": [
            " basic_computer_vision_p2.ipynb    intro_cnn_part3.ipynb\n",
            " build_image_classifier_p4.ipynb   intro_to_ML_pt1.ipynb\n",
            "'Copy of 01_intro.ipynb'\t  'Kivy Interview Question.ipynb'\n",
            "'Copy of 02_production.ipynb'\t   language_classification_deploy.ipynb\n",
            "'Copy of 03_ethics.ipynb'\t   language_classification.ipynb\n",
            "'Copy of 04_mnist_basics.ipynb'    soccer_classification.ipynb\n",
            " fast.ai_ch_questions.ipynb\t   Test_jPKyvmK.csv\n",
            " Guided_Hackathon_1.ipynb\t   Train_eP48B9k.csv\n"
          ],
          "name": "stdout"
        }
      ]
    },
    {
      "cell_type": "code",
      "metadata": {
        "id": "G_5hgSxQ4QX5"
      },
      "source": [
        "# train and test datasets\n",
        "train = pd.read_csv('Train_eP48B9k.csv')\n",
        "test = pd.read_csv('Test_jPKyvmK.csv')"
      ],
      "execution_count": 5,
      "outputs": []
    },
    {
      "cell_type": "code",
      "metadata": {
        "id": "wKI_i99tRzi6"
      },
      "source": [
        "# setting independent and dependent variable\n",
        "id_col, target_col = train['id'], train['term_deposit_subscribed'] "
      ],
      "execution_count": 13,
      "outputs": []
    },
    {
      "cell_type": "code",
      "metadata": {
        "id": "-MWZbiIhv3ve"
      },
      "source": [
        "print(target_col.value_counts(normalize=True))"
      ],
      "execution_count": null,
      "outputs": []
    },
    {
      "cell_type": "code",
      "metadata": {
        "colab": {
          "base_uri": "https://localhost:8080/",
          "height": 352
        },
        "id": "EKkfeJG3u-nL",
        "outputId": "dbcc036e-158c-48d7-8aea-63a7f0a947f9"
      },
      "source": [
        "_ = sns.countplot(target_col)\n",
        "plt.title('Distribution')\n",
        "plt.show()"
      ],
      "execution_count": 22,
      "outputs": [
        {
          "output_type": "stream",
          "text": [
            "/usr/local/lib/python3.6/dist-packages/seaborn/_decorators.py:43: FutureWarning: Pass the following variable as a keyword arg: x. From version 0.12, the only valid positional argument will be `data`, and passing other arguments without an explicit keyword will result in an error or misinterpretation.\n",
            "  FutureWarning\n"
          ],
          "name": "stderr"
        },
        {
          "output_type": "display_data",
          "data": {
            "image/png": "[encoded data removed]",
            "text/plain": [
              "<Figure size 432x288 with 1 Axes>"
            ]
          },
          "metadata": {
            "tags": [],
            "needs_background": "light"
          }
        }
      ]
    },
    {
      "cell_type": "code",
      "metadata": {
        "id": "gpXQGL3FSZEe",
        "colab": {
          "base_uri": "https://localhost:8080/"
        },
        "outputId": "1701edb3-93a5-41a8-f089-d1d6e93b9c03"
      },
      "source": [
        "# shape of both datasets\n",
        "print('The test set has', test.shape[0], 'samples and', test.shape[1], 'variables')\n",
        "print('The train set has', train.shape[0], 'samples and', test.shape[1], 'variables')"
      ],
      "execution_count": 24,
      "outputs": [
        {
          "output_type": "stream",
          "text": [
            "The test set has 13564 samples and 17 variables\n",
            "The train set has 31647 samples and 17 variables\n"
          ],
          "name": "stdout"
        }
      ]
    },
    {
      "cell_type": "markdown",
      "metadata": {
        "id": "Z5pk_xTV50cg"
      },
      "source": [
        "#Train Set EDA"
      ]
    },
    {
      "cell_type": "code",
      "metadata": {
        "id": "J4TFAVWv1a8U"
      },
      "source": [
        "# test set EDA\n",
        "print(train.head())"
      ],
      "execution_count": null,
      "outputs": []
    },
    {
      "cell_type": "code",
      "metadata": {
        "id": "MQS9fkUd5tfF"
      },
      "source": [
        "# test set columns\n",
        "print(train.columns)"
      ],
      "execution_count": null,
      "outputs": []
    },
    {
      "cell_type": "code",
      "metadata": {
        "id": "6V1rVcO15vHx"
      },
      "source": [
        "# test set describe\n",
        "print(train.describe())"
      ],
      "execution_count": null,
      "outputs": []
    },
    {
      "cell_type": "markdown",
      "metadata": {
        "id": "4dmJmJeH8XLN"
      },
      "source": [
        "# Remove Train Null Values"
      ]
    },
    {
      "cell_type": "code",
      "metadata": {
        "colab": {
          "base_uri": "https://localhost:8080/"
        },
        "id": "ohKj56q79aDf",
        "outputId": "ae26ecfa-c9a1-4de0-972a-c2c444b52838"
      },
      "source": [
        "print(train.isnull().sum())"
      ],
      "execution_count": 60,
      "outputs": [
        {
          "output_type": "stream",
          "text": [
            "id                                      0\n",
            "customer_age                            0\n",
            "job_type                                0\n",
            "marital                                 0\n",
            "education                               0\n",
            "default                                 0\n",
            "balance                                 0\n",
            "housing_loan                            0\n",
            "personal_loan                           0\n",
            "communication_type                      0\n",
            "day_of_month                            0\n",
            "month                                   0\n",
            "last_contact_duration                   0\n",
            "num_contacts_in_campaign              112\n",
            "days_since_prev_campaign_contact    25831\n",
            "num_contacts_prev_campaign              0\n",
            "prev_campaign_outcome                   0\n",
            "term_deposit_subscribed                 0\n",
            "dtype: int64\n"
          ],
          "name": "stdout"
        }
      ]
    },
    {
      "cell_type": "code",
      "metadata": {
        "id": "10gRNFYO2l3j"
      },
      "source": [
        "# fixing 619 train customer_age datapoints\n",
        "print(train.customer_age.describe())\n",
        "train.customer_age.fillna(train.customer_age.mean(), inplace=True)\n",
        "print('The \\'customer_age\\' train column has', train.customer_age.isnull().sum(), 'null values')"
      ],
      "execution_count": null,
      "outputs": []
    },
    {
      "cell_type": "code",
      "metadata": {
        "id": "K7-DVXFtXgu9"
      },
      "source": [
        "# fixing 150 'marital' train columns null values\n",
        "print('The \\'marital\\' test column has', train.marital.nunique(), 'unique values')\n",
        "print(train.marital.describe())\n",
        "\n",
        "# filling NAN values with forward fill\n",
        "train.marital.ffill(inplace=True)\n",
        "print('The \\'marital\\' test column has', train.marital.isnull().sum(), 'null values')"
      ],
      "execution_count": null,
      "outputs": []
    },
    {
      "cell_type": "code",
      "metadata": {
        "id": "hDJKy-ca28t8"
      },
      "source": [
        "# fixing 399 'balance' train column null values\n",
        "print('The train \\'balance\\' column has', train['balance'].nunique(), 'unique values')\n",
        "print(train['balance'].describe())\n",
        "\n",
        "# filling NAN values with mean\n",
        "train['balance'].fillna(train['balance'].mean(), inplace=True)\n",
        "print('The train \\'balance\\' column has', train['balance'].isnull().sum(), 'null values')"
      ],
      "execution_count": null,
      "outputs": []
    },
    {
      "cell_type": "code",
      "metadata": {
        "id": "fA_-uZES3CBX"
      },
      "source": [
        "# fixing 149 'personal_loan' train column null values\n",
        "print('The \\'personal_loan\\' column has', train['personal_loan'].nunique(), 'unique values')\n",
        "print(train['personal_loan'].value_counts(normalize=True))\n",
        "\n",
        "# filling NAN values with back fill\n",
        "train['personal_loan'].fillna(method='bfill', inplace=True)\n",
        "print('The \\personal_loan\\' column has', train['personal_loan'].isnull().sum(), 'null values')"
      ],
      "execution_count": null,
      "outputs": []
    },
    {
      "cell_type": "code",
      "metadata": {
        "id": "HfrrB2CH3Kuj"
      },
      "source": [
        "# fixing 311 'last_contact_duration' train column null values\n",
        "print('The \\'last_contact_duration\\' column has', train['last_contact_duration'].nunique(), 'unique values')\n",
        "print(train['last_contact_duration'].describe())\n",
        "\n",
        "#filling NAN values with std\n",
        "train['last_contact_duration'].fillna(train['last_contact_duration'].mean(), inplace=True)\n",
        "print('The \\'last_contact_duration\\' column has', train['last_contact_duration'].isnull().sum(), 'null values')"
      ],
      "execution_count": null,
      "outputs": []
    },
    {
      "cell_type": "code",
      "metadata": {
        "id": "dAfmv82P3QLX"
      },
      "source": [
        "# fixing 112 'num_contacts_in_campaign' train column null values"
      ],
      "execution_count": null,
      "outputs": []
    },
    {
      "cell_type": "code",
      "metadata": {
        "id": "HMI3BC_jUkPI"
      },
      "source": [
        "# which columns in train set are uni/bi/multivariate/continuous?\n",
        "print('The customer_age test set contains', train.customer_age.nunique(), 'number of unique values')"
      ],
      "execution_count": null,
      "outputs": []
    },
    {
      "cell_type": "code",
      "metadata": {
        "id": "0GdS2qkwfwzB"
      },
      "source": [
        "# test 'customer_age' boxplot\n",
        "train.boxplot(column=['customer_age'], notch=True, figsize=figsize)\n",
        "plt.title('Customer Age')\n",
        "plt.xlabel('')\n",
        "plt.ylabel('age')\n",
        "plt.show()"
      ],
      "execution_count": null,
      "outputs": []
    },
    {
      "cell_type": "code",
      "metadata": {
        "id": "_Si1CBNa1oXp",
        "colab": {
          "base_uri": "https://localhost:8080/"
        },
        "outputId": "95872eb4-c039-44c8-a690-894661ddf7c4"
      },
      "source": [
        ""
      ],
      "execution_count": null,
      "outputs": [
        {
          "output_type": "stream",
          "text": [
            "         id  customer_age  ... prev_campaign_outcome term_deposit_subscribed\n",
            "0  id_43823          28.0  ...               unknown                       0\n",
            "1  id_32289          34.0  ...                 other                       0\n",
            "2  id_10523          46.0  ...               unknown                       0\n",
            "3  id_43951          34.0  ...               unknown                       0\n",
            "4  id_40992          41.0  ...               unknown                       0\n",
            "\n",
            "[5 rows x 18 columns]\n",
            "Index(['id', 'customer_age', 'job_type', 'marital', 'education', 'default',\n",
            "       'balance', 'housing_loan', 'personal_loan', 'communication_type',\n",
            "       'day_of_month', 'month', 'last_contact_duration',\n",
            "       'num_contacts_in_campaign', 'days_since_prev_campaign_contact',\n",
            "       'num_contacts_prev_campaign', 'prev_campaign_outcome',\n",
            "       'term_deposit_subscribed'],\n",
            "      dtype='object')\n"
          ],
          "name": "stdout"
        }
      ]
    }
  ]
}