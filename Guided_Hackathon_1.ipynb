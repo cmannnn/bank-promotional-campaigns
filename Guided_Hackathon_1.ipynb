{
  "nbformat": 4,
  "nbformat_minor": 0,
  "metadata": {
    "colab": {
      "name": "Guided_Hackathon_1.ipynb",
      "provenance": [],
      "collapsed_sections": [],
      "authorship_tag": "ABX9TyPI0HmU1M2r4KVdQb9UFWi+",
      "include_colab_link": true
    },
    "kernelspec": {
      "name": "python3",
      "display_name": "Python 3"
    }
  },
  "cells": [
    {
      "cell_type": "markdown",
      "metadata": {
        "id": "view-in-github",
        "colab_type": "text"
      },
      "source": [
        "<a href=\"https://colab.research.google.com/github/cmannnn/bank-promotional-campaigns/blob/main/Guided_Hackathon_1.ipynb\" target=\"_parent\"><img src=\"https://colab.research.google.com/assets/colab-badge.svg\" alt=\"Open In Colab\"/></a>"
      ]
    },
    {
      "cell_type": "markdown",
      "metadata": {
        "id": "FXOYtRvs0dWu"
      },
      "source": [
        "Marketing campaigns are characterized by focusing on the customer needs and their overall satisfaction. Nevertheless, there are different variables that determine whether a marketing campaign will be successful or not. Some important aspects of a marketing campaign are as follows: \n",
        "\n",
        "Segment of the Population: To which segment of the population is the marketing campaign going to address and why? This aspect of the marketing campaign is extremely important since it will tell to which part of the population should most likely receive the message of the marketing campaign. \n",
        "\n",
        "Distribution channel to reach the customer's place: Implementing the most effective strategy in order to get the most out of this marketing campaign. What segment of the population should we address? Which instrument should we use to get our message out? (Ex: Telephones, Radio, TV, Social Media Etc.) \n",
        "\n",
        "Promotional Strategy: This is the way the strategy is going to be implemented and how are potential clients going to be address. This should be the last part of the marketing campaign analysis since there has to be an in-depth analysis of previous campaigns (If possible) in order to learn from previous mistakes and to determine how to make the marketing campaign much more effective.\n",
        "\n",
        "You are leading the marketing analytics team for a banking institution. There has been a revenue decline for the bank and they would like to know what actions to take. After investigation, it was found that the root cause is that their clients are not depositing as frequently as before. Term deposits allow banks to hold onto a deposit for a specific amount of time, so banks can lend more and thus make more profits. In addition, banks also hold better chance to persuade term deposit clients into buying other products such as funds or insurance to further increase their revenues.\n",
        "\n",
        "You are provided a dataset containing details of marketing campaigns done via phone with various details for customers such as demographics, last campaign details etc. \n",
        "\n",
        "#Can you help the bank to predict accurately whether the customer will subscribe to the focus product for the campaign - Term Deposit after the campaign?\n",
        "\n",
        "Data Description\n",
        "Train Set\n",
        "\n",
        "#Train set contains the data to be used for model building. It has the true labels for whether the customer subscribed for term deposit (1) or not (0) "
      ]
    },
    {
      "cell_type": "markdown",
      "metadata": {
        "id": "_e-4HIqF0nm1"
      },
      "source": [
        "Sample Submission:\n",
        "\n",
        "Format for making the submission for predictions on the test set\n",
        "\n",
        "id: Unique id for each call\n",
        "\n",
        "term_deposit_subscribed: whether term deposit was subscribed post call. (1/0)"
      ]
    },
    {
      "cell_type": "code",
      "metadata": {
        "id": "fHXioKFj03BV"
      },
      "source": [
        "# imports\n",
        "import pandas as pd\n",
        "pd.set_option('display.max_columns', 500)\n",
        "pd.set_option('display.max_rows', 500)\n",
        "import numpy as np\n",
        "import matplotlib.pyplot as plt\n",
        "import seaborn as sns\n",
        "import urllib.request\n",
        "\n",
        "\n",
        "plt.style.use('fivethirtyeight')\n",
        "%matplotlib inline\n",
        "\n",
        "# constant figure size\n",
        "figsize = [8, 10]"
      ],
      "execution_count": 1,
      "outputs": []
    },
    {
      "cell_type": "code",
      "metadata": {
        "colab": {
          "base_uri": "https://localhost:8080/"
        },
        "id": "tIjfdSq2YTf5",
        "outputId": "0ddfca3e-b3ae-423f-e437-8ff6e313d818"
      },
      "source": [
        "from google.colab import drive\n",
        "drive.mount('/content/gdrive')"
      ],
      "execution_count": 11,
      "outputs": [
        {
          "output_type": "stream",
          "text": [
            "Drive already mounted at /content/gdrive; to attempt to forcibly remount, call drive.mount(\"/content/gdrive\", force_remount=True).\n"
          ],
          "name": "stdout"
        }
      ]
    },
    {
      "cell_type": "code",
      "metadata": {
        "id": "GjR1AgrZ2b8E"
      },
      "source": [
        "import os\n",
        "os.chdir('/content/gdrive/MyDrive/Colabby Krabby Paddy')"
      ],
      "execution_count": 20,
      "outputs": []
    },
    {
      "cell_type": "code",
      "metadata": {
        "colab": {
          "base_uri": "https://localhost:8080/"
        },
        "id": "1hbu0Aed4BDu",
        "outputId": "0f7b3eb8-89f3-48d6-cec1-602486733e32"
      },
      "source": [
        "!ls"
      ],
      "execution_count": 21,
      "outputs": [
        {
          "output_type": "stream",
          "text": [
            " basic_computer_vision_p2.ipynb    intro_cnn_part3.ipynb\n",
            " build_image_classifier_p4.ipynb   intro_to_ML_pt1.ipynb\n",
            "'Copy of 01_intro.ipynb'\t  'Kivy Interview Question.ipynb'\n",
            "'Copy of 02_production.ipynb'\t   language_classification_deploy.ipynb\n",
            "'Copy of 03_ethics.ipynb'\t   language_classification.ipynb\n",
            "'Copy of 04_mnist_basics.ipynb'    soccer_classification.ipynb\n",
            " fast.ai_ch_questions.ipynb\t   Test_jPKyvmK.csv\n",
            " Guided_Hackathon_1.ipynb\t   Train_eP48B9k.csv\n"
          ],
          "name": "stdout"
        }
      ]
    },
    {
      "cell_type": "code",
      "metadata": {
        "id": "G_5hgSxQ4QX5"
      },
      "source": [
        "# train and test datasets\n",
        "train = pd.read_csv('Train_eP48B9k.csv')\n",
        "test = pd.read_csv('Test_jPKyvmK.csv')"
      ],
      "execution_count": 22,
      "outputs": []
    },
    {
      "cell_type": "code",
      "metadata": {
        "id": "wKI_i99tRzi6"
      },
      "source": [
        "# setting independent and dependent variable\n",
        "id_col, target_col = 'id', 'term_deposit_subscribed' "
      ],
      "execution_count": 23,
      "outputs": []
    },
    {
      "cell_type": "code",
      "metadata": {
        "id": "gpXQGL3FSZEe",
        "colab": {
          "base_uri": "https://localhost:8080/"
        },
        "outputId": "6b2e1355-8a38-43df-c1ac-38edfe1e0bd9"
      },
      "source": [
        "# shape of both datasets\n",
        "print('The test set has', test.shape[0], 'samples and', test.shape[1], 'variables')\n",
        "print('The train set has', train.shape[0], 'samples and', test.shape[1], 'variables')"
      ],
      "execution_count": 24,
      "outputs": [
        {
          "output_type": "stream",
          "text": [
            "The test set has 13564 samples and 17 variables\n",
            "The train set has 31647 samples and 17 variables\n"
          ],
          "name": "stdout"
        }
      ]
    },
    {
      "cell_type": "markdown",
      "metadata": {
        "id": "Z5pk_xTV50cg"
      },
      "source": [
        "#Test Set EDA"
      ]
    },
    {
      "cell_type": "code",
      "metadata": {
        "id": "J4TFAVWv1a8U",
        "colab": {
          "base_uri": "https://localhost:8080/"
        },
        "outputId": "98fc98a0-6fd3-4a6f-f35b-c1538f601a9d"
      },
      "source": [
        "# test set EDA\n",
        "print(test.head())"
      ],
      "execution_count": 27,
      "outputs": [
        {
          "output_type": "stream",
          "text": [
            "         id  customer_age     job_type   marital  education default  balance  \\\n",
            "0  id_17231          55.0      retired   married   tertiary      no   7136.0   \n",
            "1  id_34508          24.0  blue-collar    single  secondary      no    179.0   \n",
            "2  id_44504          46.0   technician  divorced  secondary      no    143.0   \n",
            "3    id_174          56.0    housemaid    single    unknown      no   6023.0   \n",
            "4   id_2115          62.0      retired   married  secondary      no   2913.0   \n",
            "\n",
            "  housing_loan personal_loan communication_type  day_of_month month  \\\n",
            "0           no            no           cellular            13   aug   \n",
            "1          yes            no           cellular            18   may   \n",
            "2           no            no           cellular             8   jul   \n",
            "3           no            no            unknown             6   jun   \n",
            "4           no            no           cellular            12   apr   \n",
            "\n",
            "   last_contact_duration  num_contacts_in_campaign  \\\n",
            "0                   90.0                       2.0   \n",
            "1                   63.0                       2.0   \n",
            "2                  208.0                       1.0   \n",
            "3                   34.0                       1.0   \n",
            "4                  127.0                       1.0   \n",
            "\n",
            "   days_since_prev_campaign_contact  num_contacts_prev_campaign  \\\n",
            "0                               NaN                           0   \n",
            "1                               NaN                           0   \n",
            "2                               NaN                           0   \n",
            "3                               NaN                           0   \n",
            "4                             188.0                           1   \n",
            "\n",
            "  prev_campaign_outcome  \n",
            "0               unknown  \n",
            "1               unknown  \n",
            "2               unknown  \n",
            "3               unknown  \n",
            "4               success  \n"
          ],
          "name": "stdout"
        }
      ]
    },
    {
      "cell_type": "code",
      "metadata": {
        "colab": {
          "base_uri": "https://localhost:8080/"
        },
        "id": "MQS9fkUd5tfF",
        "outputId": "a64e01a0-9c05-4ddc-bec8-a073fe63736e"
      },
      "source": [
        "# test set columns\n",
        "print(test.columns)"
      ],
      "execution_count": 28,
      "outputs": [
        {
          "output_type": "stream",
          "text": [
            "Index(['id', 'customer_age', 'job_type', 'marital', 'education', 'default',\n",
            "       'balance', 'housing_loan', 'personal_loan', 'communication_type',\n",
            "       'day_of_month', 'month', 'last_contact_duration',\n",
            "       'num_contacts_in_campaign', 'days_since_prev_campaign_contact',\n",
            "       'num_contacts_prev_campaign', 'prev_campaign_outcome'],\n",
            "      dtype='object')\n"
          ],
          "name": "stdout"
        }
      ]
    },
    {
      "cell_type": "code",
      "metadata": {
        "colab": {
          "base_uri": "https://localhost:8080/"
        },
        "id": "6V1rVcO15vHx",
        "outputId": "2f7a9653-d73f-45c6-9492-7ba5ae05835a"
      },
      "source": [
        "# test set describe\n",
        "print(test.describe())"
      ],
      "execution_count": 29,
      "outputs": [
        {
          "output_type": "stream",
          "text": [
            "       customer_age       balance  day_of_month  last_contact_duration  \\\n",
            "count  13294.000000  13383.000000  13564.000000           13442.000000   \n",
            "mean      40.450429   1341.405514     15.778089             261.171031   \n",
            "std       10.747881   2839.670990      8.321562             261.195560   \n",
            "min       18.000000  -6849.000000      1.000000               0.000000   \n",
            "25%       32.000000     70.500000      8.000000             102.000000   \n",
            "50%       39.000000    447.000000     16.000000             182.000000   \n",
            "75%       48.000000   1466.000000     21.000000             325.000000   \n",
            "max       94.000000  71187.000000     31.000000            3863.000000   \n",
            "\n",
            "       num_contacts_in_campaign  days_since_prev_campaign_contact  \\\n",
            "count              13519.000000                       2441.000000   \n",
            "mean                   2.730971                        223.582958   \n",
            "std                    2.941338                        116.196526   \n",
            "min                    1.000000                          1.000000   \n",
            "25%                    1.000000                        131.000000   \n",
            "50%                    2.000000                        194.000000   \n",
            "75%                    3.000000                        323.000000   \n",
            "max                   50.000000                        842.000000   \n",
            "\n",
            "       num_contacts_prev_campaign  \n",
            "count                13564.000000  \n",
            "mean                     0.553966  \n",
            "std                      1.762402  \n",
            "min                      0.000000  \n",
            "25%                      0.000000  \n",
            "50%                      0.000000  \n",
            "75%                      0.000000  \n",
            "max                     38.000000  \n"
          ],
          "name": "stdout"
        }
      ]
    },
    {
      "cell_type": "code",
      "metadata": {
        "id": "6vW3dLWt2b7b",
        "colab": {
          "base_uri": "https://localhost:8080/",
          "height": 341
        },
        "outputId": "4b009615-bbf0-4d52-e0dc-b8046c81a487"
      },
      "source": [
        "# removing null values\n",
        "print(test.isnull().sum())"
      ],
      "execution_count": null,
      "outputs": [
        {
          "output_type": "stream",
          "text": [
            "id                                      0\n",
            "customer_age                          270\n",
            "job_type                                0\n",
            "marital                                81\n",
            "education                               0\n",
            "default                                 0\n",
            "balance                               181\n",
            "housing_loan                            0\n",
            "personal_loan                          74\n",
            "communication_type                      0\n",
            "day_of_month                            0\n",
            "month                                   0\n",
            "last_contact_duration                 122\n",
            "num_contacts_in_campaign               45\n",
            "days_since_prev_campaign_contact    11123\n",
            "num_contacts_prev_campaign              0\n",
            "prev_campaign_outcome                   0\n",
            "dtype: int64\n"
          ],
          "name": "stdout"
        }
      ]
    },
    {
      "cell_type": "code",
      "metadata": {
        "id": "10gRNFYO2l3j",
        "colab": {
          "base_uri": "https://localhost:8080/",
          "height": 197
        },
        "outputId": "28150215-0468-4d49-f287-468d05b903bc"
      },
      "source": [
        "# fixing 270 'customer_age' test columns null values\n",
        "print(test.customer_age.describe())\n",
        "test.customer_age.fillna(test.customer_age.mean(), inplace=True)\n",
        "print('The \\'customer_age\\' test column has', test.customer_age.isnull().sum(), 'null values')"
      ],
      "execution_count": null,
      "outputs": [
        {
          "output_type": "stream",
          "text": [
            "count    13564.000000\n",
            "mean        40.450429\n",
            "std         10.640364\n",
            "min         18.000000\n",
            "25%         32.000000\n",
            "50%         39.000000\n",
            "75%         48.000000\n",
            "max         94.000000\n",
            "Name: customer_age, dtype: float64\n",
            "The 'customer_age' test column has 0 null values\n"
          ],
          "name": "stdout"
        }
      ]
    },
    {
      "cell_type": "code",
      "metadata": {
        "id": "K7-DVXFtXgu9",
        "colab": {
          "base_uri": "https://localhost:8080/",
          "height": 143
        },
        "outputId": "fae232a8-e4cc-44f8-9fda-e3be0c060927"
      },
      "source": [
        "# fixing 81 'marital' test columns null values\n",
        "print('The \\'marital\\' test column has', test.marital.nunique(), 'unique values')\n",
        "print(test.marital.describe())\n",
        "\n",
        "# filling NAN values with forward fill\n",
        "test.marital.ffill(inplace=True)\n",
        "print('The \\'marital\\' test column has', test.marital.isnull().sum(), 'NAN values')"
      ],
      "execution_count": null,
      "outputs": [
        {
          "output_type": "stream",
          "text": [
            "The 'marital' test column has 3 unique values\n",
            "count       13564\n",
            "unique          3\n",
            "top       married\n",
            "freq         8168\n",
            "Name: marital, dtype: object\n",
            "The 'marital' test column has 0 NAN values\n"
          ],
          "name": "stdout"
        }
      ]
    },
    {
      "cell_type": "code",
      "metadata": {
        "id": "hDJKy-ca28t8"
      },
      "source": [
        "# fixing 181 'balance' test column null values"
      ],
      "execution_count": null,
      "outputs": []
    },
    {
      "cell_type": "code",
      "metadata": {
        "id": "fA_-uZES3CBX"
      },
      "source": [
        "# fixing 74 'personal_loans' test column null values"
      ],
      "execution_count": null,
      "outputs": []
    },
    {
      "cell_type": "code",
      "metadata": {
        "id": "HfrrB2CH3Kuj"
      },
      "source": [
        "# fixing 122 'last_contact_duration' test column null values"
      ],
      "execution_count": null,
      "outputs": []
    },
    {
      "cell_type": "code",
      "metadata": {
        "id": "dAfmv82P3QLX"
      },
      "source": [
        "# fixing 45 'num_contacts_in_campaign' test column null values"
      ],
      "execution_count": null,
      "outputs": []
    },
    {
      "cell_type": "code",
      "metadata": {
        "id": "HMI3BC_jUkPI"
      },
      "source": [
        "# which columns in train set are uni/bi/multivariate/continuous?\n",
        "print('The customer_age test set contains', train.customer_age.nunique(), 'number of unique values')\n"
      ],
      "execution_count": null,
      "outputs": []
    },
    {
      "cell_type": "code",
      "metadata": {
        "id": "0GdS2qkwfwzB"
      },
      "source": [
        "# test 'customer_age' boxplot\n",
        "test.boxplot(column=['customer_age'], notch=True, figsize=figsize)\n",
        "plt.title('Customer Age')\n",
        "plt.xlabel('')\n",
        "plt.ylabel('age')\n",
        "plt.show()'''"
      ],
      "execution_count": null,
      "outputs": []
    },
    {
      "cell_type": "code",
      "metadata": {
        "id": "_Si1CBNa1oXp",
        "colab": {
          "base_uri": "https://localhost:8080/"
        },
        "outputId": "95872eb4-c039-44c8-a690-894661ddf7c4"
      },
      "source": [
        "# train eda\n",
        "print(train.head())\n",
        "print(train.columns)"
      ],
      "execution_count": null,
      "outputs": [
        {
          "output_type": "stream",
          "text": [
            "         id  customer_age  ... prev_campaign_outcome term_deposit_subscribed\n",
            "0  id_43823          28.0  ...               unknown                       0\n",
            "1  id_32289          34.0  ...                 other                       0\n",
            "2  id_10523          46.0  ...               unknown                       0\n",
            "3  id_43951          34.0  ...               unknown                       0\n",
            "4  id_40992          41.0  ...               unknown                       0\n",
            "\n",
            "[5 rows x 18 columns]\n",
            "Index(['id', 'customer_age', 'job_type', 'marital', 'education', 'default',\n",
            "       'balance', 'housing_loan', 'personal_loan', 'communication_type',\n",
            "       'day_of_month', 'month', 'last_contact_duration',\n",
            "       'num_contacts_in_campaign', 'days_since_prev_campaign_contact',\n",
            "       'num_contacts_prev_campaign', 'prev_campaign_outcome',\n",
            "       'term_deposit_subscribed'],\n",
            "      dtype='object')\n"
          ],
          "name": "stdout"
        }
      ]
    }
  ]
}